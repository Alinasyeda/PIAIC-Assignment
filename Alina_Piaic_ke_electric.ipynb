{
  "nbformat": 4,
  "nbformat_minor": 0,
  "metadata": {
    "colab": {
      "provenance": [],
      "authorship_tag": "ABX9TyM1Z/TsWbW0nowfdcdiupk/",
      "include_colab_link": true
    },
    "kernelspec": {
      "name": "python3",
      "display_name": "Python 3"
    },
    "language_info": {
      "name": "python"
    }
  },
  "cells": [
    {
      "cell_type": "markdown",
      "metadata": {
        "id": "view-in-github",
        "colab_type": "text"
      },
      "source": [
        "<a href=\"https://colab.research.google.com/github/Alinasyeda/PIAIC-Assignment/blob/main/Alina_Piaic_ke_electric.ipynb\" target=\"_parent\"><img src=\"https://colab.research.google.com/assets/colab-badge.svg\" alt=\"Open In Colab\"/></a>"
      ]
    },
    {
      "cell_type": "code",
      "execution_count": 2,
      "metadata": {
        "colab": {
          "base_uri": "https://localhost:8080/"
        },
        "id": "NZ2E-iFxUiwv",
        "outputId": "c6bfea9d-e626-4c6b-be86-62f9d6257b18"
      },
      "outputs": [
        {
          "output_type": "stream",
          "name": "stdout",
          "text": [
            "enter Units of Aug: 244\n",
            "enter Units of Jun: 354\n",
            "enter Units of Jun Uni: 578\n",
            "enter Units of May: 967\n",
            "variable Charges is:  4596\n",
            "uniform Adjustment is:  330\n",
            "Fuel Adj of May-22 is :  6658\n",
            "Fuel Adj of June-22 is :  1066\n",
            "Total KE charges are:  12650\n",
            "Electricity duty:  189\n",
            "Sales tax:  2182\n",
            "Total Government charges are:  2371\n",
            "1Your Electricity charges for the period:  15021\n"
          ]
        }
      ],
      "source": [
        "def variable_charges (monthly_units):\n",
        "    if monthly_units > 1 and monthly_units < 1:\n",
        "        v_charges = monthly_units * 9.43\n",
        "    if monthly_units > 101 and monthly_units < 200:\n",
        "        v_charges = monthly_units * 17.9566\n",
        "    if monthly_units > 201 and monthly_units < 300:\n",
        "        v_charges = monthly_units * 18.84\n",
        "    if monthly_units > 301 and monthly_units < 400:\n",
        "        v_charges = monthly_units * 19.76\n",
        "    return int(v_charges)\n",
        "\n",
        "def uniform_adj (June_uni_units):\n",
        "    result = June_uni_units * 0.5715\n",
        "    return int(result)\n",
        "\n",
        "def fuel_adj_a(May):\n",
        "    m = May * 6.8858\n",
        "    return int(m)\n",
        "\n",
        "def fuel_adj_b(Jun):\n",
        "    j = Jun * 3.0114\n",
        "    return int(j)\n",
        "    \n",
        "\n",
        "def ke_charges (c1, c2, c3, c4):\n",
        "    result = c1 + c2 + c3 + c4\n",
        "    return result\n",
        "\n",
        "def duty (ke_charges):\n",
        "    result = ke_charges * 0.015\n",
        "    return int(result)\n",
        "\n",
        "def sales_tax (ke_charges, duty):\n",
        "    result = (ke_charges + duty) * 0.17\n",
        "    return int(result)\n",
        "\n",
        "def govt_charges (a, b):\n",
        "    result = a + b\n",
        "    return int(result)\n",
        "def total_dues (a, b):\n",
        "    result = a + b\n",
        "    return int(result)\n",
        "\n",
        "Aug_user_input = int(input (\"enter Units of Aug: \"))\n",
        "Jun_user_input = int(input (\"enter Units of Jun: \"))\n",
        "Jun_uni_user_input = int(input (\"enter Units of Jun Uni: \"))\n",
        "May_user_input = int(input (\"enter Units of May: \"))\n",
        "\n",
        "\n",
        "def main_calc(Aug, June, Jun_uni, May):\n",
        "    display_a = variable_charges(Aug)\n",
        "    print (\"variable Charges is: \", display_a)\n",
        "    \n",
        "    display_b = uniform_adj(Jun_uni_user_input)\n",
        "    print (\"uniform Adjustment is: \", display_b)\n",
        "    \n",
        "    display_c = fuel_adj_a(May_user_input)\n",
        "    print (\"Fuel Adj of May-22 is : \", display_c)\n",
        "    \n",
        "    display_d = fuel_adj_b(Jun_user_input)\n",
        "    print (\"Fuel Adj of June-22 is : \", display_d)\n",
        "    \n",
        "    display_e = ke_charges(display_a, display_b, display_c, display_d)\n",
        "    print (\"Total KE charges are: \", display_e)\n",
        "    \n",
        "    display_f = duty(display_e)\n",
        "    print (\"Electricity duty: \", display_f)\n",
        "    \n",
        "    display_g = sales_tax(display_e, display_f)\n",
        "    print (\"Sales tax: \", display_g)\n",
        "\n",
        "    display_h = govt_charges(display_f, display_g)\n",
        "    print (\"Total Government charges are: \", display_h)\n",
        "    \n",
        "    display_e = total_dues(display_e, display_h)\n",
        "    print (\"Your Electricity charges for the period: \", display_e)\n",
        "\n",
        "main_calc(Aug_user_input, Jun_user_input, Jun_uni_user_input, May_user_input)"
      ]
    },
    {
      "cell_type": "code",
      "source": [],
      "metadata": {
        "id": "30Mc-4oBVvft"
      },
      "execution_count": null,
      "outputs": []
    }
  ]
}